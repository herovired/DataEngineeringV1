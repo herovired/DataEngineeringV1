{
 "cells": [
  {
   "cell_type": "code",
   "execution_count": 1,
   "id": "44ec7654-6a73-46d8-91f6-78c7081c3a30",
   "metadata": {},
   "outputs": [],
   "source": [
    "import pandas as pd\n",
    "import numpy as np"
   ]
  },
  {
   "cell_type": "code",
   "execution_count": 8,
   "id": "e976047e-0919-47f5-91ba-5e97dfcd0108",
   "metadata": {},
   "outputs": [],
   "source": [
    "rands1 = np.random.randn(10**4)\n",
    "rands2 = np.random.randn(10**4)"
   ]
  },
  {
   "cell_type": "code",
   "execution_count": 9,
   "id": "dab6d6f5-bbd4-4cd0-8741-4ad1a6a385eb",
   "metadata": {},
   "outputs": [
    {
     "name": "stdout",
     "output_type": "stream",
     "text": [
      "2.39 µs ± 19.5 ns per loop (mean ± std. dev. of 7 runs, 100,000 loops each)\n"
     ]
    }
   ],
   "source": [
    "%%timeit\n",
    "\n",
    "rands3np = rands1 * rands2"
   ]
  },
  {
   "cell_type": "code",
   "execution_count": 10,
   "id": "0a03cb24-222c-492d-873d-0df91e707557",
   "metadata": {},
   "outputs": [],
   "source": [
    "ser1 = pd.Series(rands1)\n",
    "ser2 = pd.Series(rands2)"
   ]
  },
  {
   "cell_type": "code",
   "execution_count": 11,
   "id": "6f809f17-9104-4dc6-8881-b6e35c1a473c",
   "metadata": {},
   "outputs": [
    {
     "name": "stdout",
     "output_type": "stream",
     "text": [
      "23.6 µs ± 43.9 ns per loop (mean ± std. dev. of 7 runs, 10,000 loops each)\n"
     ]
    }
   ],
   "source": [
    "%%timeit\n",
    "\n",
    "ser3 = ser1 * ser2"
   ]
  },
  {
   "cell_type": "markdown",
   "id": "0bcfdd68-cd5d-4e7c-a5e4-302491d05cfe",
   "metadata": {},
   "source": [
    "There is a performance difference in both numpy and pandas performance. It majorly depends on the number of rows in the data.For rows<50000, numpy opretations are faster. For rows>5000000 pandas and numpy codee is comparable"
   ]
  },
  {
   "cell_type": "code",
   "execution_count": 12,
   "id": "14b11d36-1f1a-404a-97d5-fa8b04ed84b1",
   "metadata": {},
   "outputs": [],
   "source": [
    "rands1 = np.random.randn(10**7)\n",
    "rands2 = np.random.randn(10**7)"
   ]
  },
  {
   "cell_type": "code",
   "execution_count": 13,
   "id": "a25e871f-c06a-4198-8bb4-62b1af766990",
   "metadata": {},
   "outputs": [
    {
     "name": "stdout",
     "output_type": "stream",
     "text": [
      "9.49 ms ± 195 µs per loop (mean ± std. dev. of 7 runs, 100 loops each)\n"
     ]
    }
   ],
   "source": [
    "%%timeit\n",
    "\n",
    "rands3np = rands1 * rands2"
   ]
  },
  {
   "cell_type": "code",
   "execution_count": 14,
   "id": "b2e3c0f9-ecc8-422d-9a5f-49515414e699",
   "metadata": {},
   "outputs": [],
   "source": [
    "ser1 = pd.Series(rands1)\n",
    "ser2 = pd.Series(rands2)"
   ]
  },
  {
   "cell_type": "code",
   "execution_count": 15,
   "id": "bb803243-8e0b-469e-87c6-0fb7ff96fefe",
   "metadata": {},
   "outputs": [
    {
     "name": "stdout",
     "output_type": "stream",
     "text": [
      "8.89 ms ± 300 µs per loop (mean ± std. dev. of 7 runs, 100 loops each)\n"
     ]
    }
   ],
   "source": [
    "%%timeit\n",
    "\n",
    "ser3 = ser1 * ser2"
   ]
  },
  {
   "cell_type": "code",
   "execution_count": null,
   "id": "dbff5b79-158b-423f-b116-bdff65d711b4",
   "metadata": {},
   "outputs": [],
   "source": []
  }
 ],
 "metadata": {
  "kernelspec": {
   "display_name": "Python 3 (ipykernel)",
   "language": "python",
   "name": "python3"
  },
  "language_info": {
   "codemirror_mode": {
    "name": "ipython",
    "version": 3
   },
   "file_extension": ".py",
   "mimetype": "text/x-python",
   "name": "python",
   "nbconvert_exporter": "python",
   "pygments_lexer": "ipython3",
   "version": "3.9.13"
  }
 },
 "nbformat": 4,
 "nbformat_minor": 5
}
