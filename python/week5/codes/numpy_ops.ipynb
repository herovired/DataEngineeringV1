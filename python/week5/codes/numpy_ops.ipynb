{
 "cells": [
  {
   "cell_type": "code",
   "execution_count": 1,
   "id": "67a2c11a-7b5f-48bd-98ef-d28b873d9204",
   "metadata": {},
   "outputs": [],
   "source": [
    "import numpy as np"
   ]
  },
  {
   "cell_type": "markdown",
   "id": "6f5bc1a5-bcf4-4428-8b59-ebddfe9cf5d6",
   "metadata": {},
   "source": [
    "## Basic File IO using numpy\n",
    "- There are two broad IO categories\n",
    "    1. When the data to be read/written is binary\n",
    "    2. When the data to be read/written is  text"
   ]
  },
  {
   "cell_type": "code",
   "execution_count": 2,
   "id": "17e92398-5b49-4b11-b5f0-87dcef86983e",
   "metadata": {},
   "outputs": [],
   "source": [
    "## Reading data from text files\n",
    "data = np.genfromtxt(\"./data/numpy_data.csv\",delimiter=\",\") ## this will work only if the file has no header."
   ]
  },
  {
   "cell_type": "code",
   "execution_count": 3,
   "id": "dc33ef30-a073-4dc6-a796-f3dc05e759c0",
   "metadata": {},
   "outputs": [
    {
     "data": {
      "text/plain": [
       "array([('M', 24., 180., 80.), ('M', 23., 170., 60.),\n",
       "       ('M', 24.,  nan, nan), ..., ('M', 27., 176., 59.),\n",
       "       ('M', 30., 185., 96.), ('M', 34., 185., 96.)],\n",
       "      dtype=[('f0', '<U1'), ('f1', '<f8'), ('f2', '<f8'), ('f3', '<f8')])"
      ]
     },
     "execution_count": 3,
     "metadata": {},
     "output_type": "execute_result"
    }
   ],
   "source": [
    "np.genfromtxt('./data/np_data_mixed.csv',delimiter=\",\",skip_header=1,dtype=None,encoding=None) ### if the types are mixed then, one will need to set dtype to None"
   ]
  },
  {
   "cell_type": "markdown",
   "id": "49f631e1-a144-4d97-9b13-9ada62a07cc0",
   "metadata": {},
   "source": [
    "Its more popular to use numpy to store data, as it can compress it in more compact form"
   ]
  },
  {
   "cell_type": "code",
   "execution_count": 4,
   "id": "72cfdb64-7fd8-4cb5-be13-7caa52fe9253",
   "metadata": {},
   "outputs": [],
   "source": [
    "import pandas as pd\n",
    "big_file = pd.read_csv('./data/big_np_data.csv',header=None)"
   ]
  },
  {
   "cell_type": "code",
   "execution_count": 5,
   "id": "46a3cc59-3fd6-45e1-b6e0-a63a50e786f7",
   "metadata": {},
   "outputs": [
    {
     "data": {
      "text/html": [
       "<div>\n",
       "<style scoped>\n",
       "    .dataframe tbody tr th:only-of-type {\n",
       "        vertical-align: middle;\n",
       "    }\n",
       "\n",
       "    .dataframe tbody tr th {\n",
       "        vertical-align: top;\n",
       "    }\n",
       "\n",
       "    .dataframe thead th {\n",
       "        text-align: right;\n",
       "    }\n",
       "</style>\n",
       "<table border=\"1\" class=\"dataframe\">\n",
       "  <thead>\n",
       "    <tr style=\"text-align: right;\">\n",
       "      <th></th>\n",
       "      <th>0</th>\n",
       "      <th>1</th>\n",
       "      <th>2</th>\n",
       "      <th>3</th>\n",
       "      <th>4</th>\n",
       "      <th>5</th>\n",
       "      <th>6</th>\n",
       "      <th>7</th>\n",
       "      <th>8</th>\n",
       "      <th>9</th>\n",
       "      <th>10</th>\n",
       "      <th>11</th>\n",
       "      <th>12</th>\n",
       "      <th>13</th>\n",
       "      <th>14</th>\n",
       "    </tr>\n",
       "  </thead>\n",
       "  <tbody>\n",
       "    <tr>\n",
       "      <th>0</th>\n",
       "      <td>1</td>\n",
       "      <td>A Dijiang</td>\n",
       "      <td>M</td>\n",
       "      <td>24.0</td>\n",
       "      <td>180.0</td>\n",
       "      <td>80.0</td>\n",
       "      <td>China</td>\n",
       "      <td>CHN</td>\n",
       "      <td>1992 Summer</td>\n",
       "      <td>1992</td>\n",
       "      <td>Summer</td>\n",
       "      <td>Barcelona</td>\n",
       "      <td>Basketball</td>\n",
       "      <td>Basketball Men's Basketball</td>\n",
       "      <td>NaN</td>\n",
       "    </tr>\n",
       "    <tr>\n",
       "      <th>1</th>\n",
       "      <td>2</td>\n",
       "      <td>A Lamusi</td>\n",
       "      <td>M</td>\n",
       "      <td>23.0</td>\n",
       "      <td>170.0</td>\n",
       "      <td>60.0</td>\n",
       "      <td>China</td>\n",
       "      <td>CHN</td>\n",
       "      <td>2012 Summer</td>\n",
       "      <td>2012</td>\n",
       "      <td>Summer</td>\n",
       "      <td>London</td>\n",
       "      <td>Judo</td>\n",
       "      <td>Judo Men's Extra-Lightweight</td>\n",
       "      <td>NaN</td>\n",
       "    </tr>\n",
       "    <tr>\n",
       "      <th>2</th>\n",
       "      <td>3</td>\n",
       "      <td>Gunnar Nielsen Aaby</td>\n",
       "      <td>M</td>\n",
       "      <td>24.0</td>\n",
       "      <td>NaN</td>\n",
       "      <td>NaN</td>\n",
       "      <td>Denmark</td>\n",
       "      <td>DEN</td>\n",
       "      <td>1920 Summer</td>\n",
       "      <td>1920</td>\n",
       "      <td>Summer</td>\n",
       "      <td>Antwerpen</td>\n",
       "      <td>Football</td>\n",
       "      <td>Football Men's Football</td>\n",
       "      <td>NaN</td>\n",
       "    </tr>\n",
       "    <tr>\n",
       "      <th>3</th>\n",
       "      <td>4</td>\n",
       "      <td>Edgar Lindenau Aabye</td>\n",
       "      <td>M</td>\n",
       "      <td>34.0</td>\n",
       "      <td>NaN</td>\n",
       "      <td>NaN</td>\n",
       "      <td>Denmark/Sweden</td>\n",
       "      <td>DEN</td>\n",
       "      <td>1900 Summer</td>\n",
       "      <td>1900</td>\n",
       "      <td>Summer</td>\n",
       "      <td>Paris</td>\n",
       "      <td>Tug-Of-War</td>\n",
       "      <td>Tug-Of-War Men's Tug-Of-War</td>\n",
       "      <td>Gold</td>\n",
       "    </tr>\n",
       "    <tr>\n",
       "      <th>4</th>\n",
       "      <td>5</td>\n",
       "      <td>Christine Jacoba Aaftink</td>\n",
       "      <td>F</td>\n",
       "      <td>21.0</td>\n",
       "      <td>185.0</td>\n",
       "      <td>82.0</td>\n",
       "      <td>Netherlands</td>\n",
       "      <td>NED</td>\n",
       "      <td>1988 Winter</td>\n",
       "      <td>1988</td>\n",
       "      <td>Winter</td>\n",
       "      <td>Calgary</td>\n",
       "      <td>Speed Skating</td>\n",
       "      <td>Speed Skating Women's 500 metres</td>\n",
       "      <td>NaN</td>\n",
       "    </tr>\n",
       "  </tbody>\n",
       "</table>\n",
       "</div>"
      ],
      "text/plain": [
       "   0                         1  2     3      4     5               6    7   \\\n",
       "0   1                 A Dijiang  M  24.0  180.0  80.0           China  CHN   \n",
       "1   2                  A Lamusi  M  23.0  170.0  60.0           China  CHN   \n",
       "2   3       Gunnar Nielsen Aaby  M  24.0    NaN   NaN         Denmark  DEN   \n",
       "3   4      Edgar Lindenau Aabye  M  34.0    NaN   NaN  Denmark/Sweden  DEN   \n",
       "4   5  Christine Jacoba Aaftink  F  21.0  185.0  82.0     Netherlands  NED   \n",
       "\n",
       "            8     9       10         11             12  \\\n",
       "0  1992 Summer  1992  Summer  Barcelona     Basketball   \n",
       "1  2012 Summer  2012  Summer     London           Judo   \n",
       "2  1920 Summer  1920  Summer  Antwerpen       Football   \n",
       "3  1900 Summer  1900  Summer      Paris     Tug-Of-War   \n",
       "4  1988 Winter  1988  Winter    Calgary  Speed Skating   \n",
       "\n",
       "                                 13    14  \n",
       "0       Basketball Men's Basketball   NaN  \n",
       "1      Judo Men's Extra-Lightweight   NaN  \n",
       "2           Football Men's Football   NaN  \n",
       "3       Tug-Of-War Men's Tug-Of-War  Gold  \n",
       "4  Speed Skating Women's 500 metres   NaN  "
      ]
     },
     "execution_count": 5,
     "metadata": {},
     "output_type": "execute_result"
    }
   ],
   "source": [
    "big_file.head()"
   ]
  },
  {
   "cell_type": "code",
   "execution_count": 6,
   "id": "c0988c9e-c322-4eb7-9b2d-c6b9f20db64f",
   "metadata": {},
   "outputs": [],
   "source": [
    "npz = big_file.values"
   ]
  },
  {
   "cell_type": "code",
   "execution_count": 7,
   "id": "c0ce2fbb-99ff-420b-9a66-3cb8d83b343c",
   "metadata": {},
   "outputs": [],
   "source": [
    "with open(\"./data/uncompressed.npz\",'wb') as f:\n",
    "    np.savez(f,npz)"
   ]
  },
  {
   "cell_type": "code",
   "execution_count": 8,
   "id": "2978e561-94d4-44cb-bee7-10cc80c22882",
   "metadata": {},
   "outputs": [],
   "source": [
    "with open(\"./data/compressed.npz\",'wb') as f:\n",
    "    np.savez_compressed(f,npz)"
   ]
  },
  {
   "cell_type": "code",
   "execution_count": 9,
   "id": "baef1178-cdc9-48dd-afc8-53f900bae0a7",
   "metadata": {},
   "outputs": [
    {
     "data": {
      "text/plain": [
       "25484422"
      ]
     },
     "execution_count": 9,
     "metadata": {},
     "output_type": "execute_result"
    }
   ],
   "source": [
    "import os\n",
    "os.path.getsize('./data/uncompressed.npz')"
   ]
  },
  {
   "cell_type": "code",
   "execution_count": 10,
   "id": "70a65d48-9b6f-4fcd-a39a-40b6b13aca72",
   "metadata": {},
   "outputs": [
    {
     "data": {
      "text/plain": [
       "5429286"
      ]
     },
     "execution_count": 10,
     "metadata": {},
     "output_type": "execute_result"
    }
   ],
   "source": [
    "os.path.getsize('./data/compressed.npz')"
   ]
  },
  {
   "cell_type": "code",
   "execution_count": 11,
   "id": "f3092aac-0b79-40e6-9c55-62c746e81225",
   "metadata": {},
   "outputs": [
    {
     "data": {
      "text/plain": [
       "36543581"
      ]
     },
     "execution_count": 11,
     "metadata": {},
     "output_type": "execute_result"
    }
   ],
   "source": [
    "os.path.getsize('./data/big_np_data.csv')"
   ]
  },
  {
   "cell_type": "markdown",
   "id": "309f0578-7555-4d0a-9f73-1efe9f30c022",
   "metadata": {},
   "source": [
    "As you can see the size of files saved in `npz` format is drastically reduced."
   ]
  },
  {
   "cell_type": "markdown",
   "id": "54f58df4-ddd0-4800-a678-912a474bf72a",
   "metadata": {},
   "source": [
    "#### Reading binary data using numpy"
   ]
  },
  {
   "cell_type": "code",
   "execution_count": 12,
   "id": "00f3aab4-c4ca-4ff3-be9a-ea8081e5e149",
   "metadata": {},
   "outputs": [],
   "source": [
    "dat = np.load('./data/compressed.npz',allow_pickle=True)"
   ]
  },
  {
   "cell_type": "code",
   "execution_count": 13,
   "id": "1b0a5bb4-a126-4956-b683-3ca77f348631",
   "metadata": {},
   "outputs": [
    {
     "data": {
      "text/plain": [
       "['arr_0']"
      ]
     },
     "execution_count": 13,
     "metadata": {},
     "output_type": "execute_result"
    }
   ],
   "source": [
    "dat.files"
   ]
  },
  {
   "cell_type": "code",
   "execution_count": 14,
   "id": "0394a893-87c3-4cf3-a6c6-a6fa2fd7d9b4",
   "metadata": {},
   "outputs": [
    {
     "data": {
      "text/plain": [
       "array([[1, 'A Dijiang', 'M', ..., 'Basketball',\n",
       "        \"Basketball Men's Basketball\", nan],\n",
       "       [2, 'A Lamusi', 'M', ..., 'Judo', \"Judo Men's Extra-Lightweight\",\n",
       "        nan],\n",
       "       [3, 'Gunnar Nielsen Aaby', 'M', ..., 'Football',\n",
       "        \"Football Men's Football\", nan],\n",
       "       ...,\n",
       "       [135570, 'Piotr ya', 'M', ..., 'Ski Jumping',\n",
       "        \"Ski Jumping Men's Large Hill, Team\", nan],\n",
       "       [135571, 'Tomasz Ireneusz ya', 'M', ..., 'Bobsleigh',\n",
       "        \"Bobsleigh Men's Four\", nan],\n",
       "       [135571, 'Tomasz Ireneusz ya', 'M', ..., 'Bobsleigh',\n",
       "        \"Bobsleigh Men's Four\", nan]], dtype=object)"
      ]
     },
     "execution_count": 14,
     "metadata": {},
     "output_type": "execute_result"
    }
   ],
   "source": [
    "dat['arr_0']"
   ]
  },
  {
   "cell_type": "markdown",
   "id": "3a3e003d-f64b-4416-8f60-589154c287f8",
   "metadata": {},
   "source": [
    "#### Class Excercise\n",
    "Use this [url](http://api.worldbank.org/v2/countries/IND/indicators/NY.GDP.MKTP.CD?per_page=5000&format=json) to fetch data on India's gdp. Store this data in a compressed npz format. You need to save the year as well as gdp numbers. "
   ]
  },
  {
   "cell_type": "markdown",
   "id": "64df092a-8567-43dc-b145-8c342062a3d9",
   "metadata": {},
   "source": [
    "## Manipulating Numpy Data"
   ]
  },
  {
   "cell_type": "code",
   "execution_count": 15,
   "id": "6c731683-9389-40c6-8faa-c237c2cb61f6",
   "metadata": {},
   "outputs": [
    {
     "data": {
      "text/plain": [
       "numpy.ndarray"
      ]
     },
     "execution_count": 15,
     "metadata": {},
     "output_type": "execute_result"
    }
   ],
   "source": [
    "type(data)"
   ]
  },
  {
   "cell_type": "code",
   "execution_count": 16,
   "id": "6e39d167-549b-458a-93fd-25d4a8dd843c",
   "metadata": {},
   "outputs": [
    {
     "data": {
      "text/plain": [
       "array([[ 24., 180.,  80.],\n",
       "       [ 23., 170.,  60.],\n",
       "       [ 24.,  nan,  nan],\n",
       "       ...,\n",
       "       [ 27., 176.,  59.],\n",
       "       [ 30., 185.,  96.],\n",
       "       [ 34., 185.,  96.]])"
      ]
     },
     "execution_count": 16,
     "metadata": {},
     "output_type": "execute_result"
    }
   ],
   "source": [
    "data"
   ]
  },
  {
   "cell_type": "code",
   "execution_count": 17,
   "id": "dbb2a974-0273-4f3a-b2a9-fb6228a4c0bd",
   "metadata": {},
   "outputs": [
    {
     "data": {
      "text/plain": [
       "(271116, 3)"
      ]
     },
     "execution_count": 17,
     "metadata": {},
     "output_type": "execute_result"
    }
   ],
   "source": [
    "## Indexation\n",
    "data.shape"
   ]
  },
  {
   "cell_type": "code",
   "execution_count": 18,
   "id": "a92aa621-db26-41c4-bb35-4a4d8061f9ef",
   "metadata": {},
   "outputs": [
    {
     "data": {
      "text/plain": [
       "array([24., 23., 24., ..., 27., 30., 34.])"
      ]
     },
     "execution_count": 18,
     "metadata": {},
     "output_type": "execute_result"
    }
   ],
   "source": [
    "data[:,0]## all rows 0th col"
   ]
  },
  {
   "cell_type": "code",
   "execution_count": 19,
   "id": "e6785fc5-9af5-498e-a571-857e62e80fa8",
   "metadata": {},
   "outputs": [
    {
     "data": {
      "text/plain": [
       "array([[ 24., 180.],\n",
       "       [ 23., 170.],\n",
       "       [ 24.,  nan],\n",
       "       ...,\n",
       "       [ 27., 176.],\n",
       "       [ 30., 185.],\n",
       "       [ 34., 185.]])"
      ]
     },
     "execution_count": 19,
     "metadata": {},
     "output_type": "execute_result"
    }
   ],
   "source": [
    "data[:,0:2] ## all rows and upto 2nd column"
   ]
  },
  {
   "cell_type": "code",
   "execution_count": 20,
   "id": "b6a21929-0775-4533-86cc-d9c3b4313dc4",
   "metadata": {},
   "outputs": [
    {
     "data": {
      "text/plain": [
       "array([24., 23., 24., ..., 27., 30., 34.])"
      ]
     },
     "execution_count": 20,
     "metadata": {},
     "output_type": "execute_result"
    }
   ],
   "source": [
    "data[...,0] ## all rows 0th col"
   ]
  },
  {
   "cell_type": "code",
   "execution_count": 21,
   "id": "1d2710a3-8a32-4e2b-aaa0-74c6847a065b",
   "metadata": {},
   "outputs": [
    {
     "data": {
      "text/plain": [
       "array([[ 24., 180.],\n",
       "       [ 23., 170.],\n",
       "       [ 24.,  nan],\n",
       "       ...,\n",
       "       [ 27., 176.],\n",
       "       [ 30., 185.],\n",
       "       [ 34., 185.]])"
      ]
     },
     "execution_count": 21,
     "metadata": {},
     "output_type": "execute_result"
    }
   ],
   "source": [
    "data[...,0:2] ## all rows and upto 2nd column"
   ]
  },
  {
   "cell_type": "code",
   "execution_count": 22,
   "id": "71dd3b9a-1178-421f-a7c4-07ff377130c0",
   "metadata": {},
   "outputs": [
    {
     "data": {
      "text/plain": [
       "array([False, False,  True, ..., False, False, False])"
      ]
     },
     "execution_count": 22,
     "metadata": {},
     "output_type": "execute_result"
    }
   ],
   "source": [
    "## boolean indexation\n",
    "np.isnan(data[:,1])"
   ]
  },
  {
   "cell_type": "code",
   "execution_count": 23,
   "id": "eab8ef80-c206-4b03-9962-42ed2eef5eae",
   "metadata": {},
   "outputs": [
    {
     "data": {
      "text/plain": [
       "array([[ 24., 180.,  80.],\n",
       "       [ 23., 170.,  60.],\n",
       "       [ 24.,  nan,  nan],\n",
       "       ...,\n",
       "       [ 27., 176.,  59.],\n",
       "       [ 30., 185.,  96.],\n",
       "       [ 34., 185.,  96.]])"
      ]
     },
     "execution_count": 23,
     "metadata": {},
     "output_type": "execute_result"
    }
   ],
   "source": [
    "data"
   ]
  },
  {
   "cell_type": "code",
   "execution_count": 24,
   "id": "81cc0c8e-6c07-4250-b4ee-7446fe35a113",
   "metadata": {},
   "outputs": [
    {
     "data": {
      "text/plain": [
       "array([nan, nan, nan, ..., nan, nan, nan])"
      ]
     },
     "execution_count": 24,
     "metadata": {},
     "output_type": "execute_result"
    }
   ],
   "source": [
    "data[:,1][np.isnan(data[:,1])]"
   ]
  },
  {
   "cell_type": "code",
   "execution_count": 25,
   "id": "1eff21de-49fc-484a-9056-6bf096ec26b7",
   "metadata": {},
   "outputs": [
    {
     "data": {
      "text/plain": [
       "array([180., 170., 185., ..., 176., 185., 185.])"
      ]
     },
     "execution_count": 25,
     "metadata": {},
     "output_type": "execute_result"
    }
   ],
   "source": [
    "data[:,1][~np.isnan(data[:,1])]"
   ]
  },
  {
   "cell_type": "code",
   "execution_count": null,
   "id": "6a63e7aa-e41b-4b18-8620-c7b02b185549",
   "metadata": {},
   "outputs": [],
   "source": []
  },
  {
   "cell_type": "code",
   "execution_count": null,
   "id": "59129b36-1e76-47f1-b2c0-4a2d01df0ac6",
   "metadata": {},
   "outputs": [],
   "source": []
  }
 ],
 "metadata": {
  "kernelspec": {
   "display_name": "Python 3 (ipykernel)",
   "language": "python",
   "name": "python3"
  },
  "language_info": {
   "codemirror_mode": {
    "name": "ipython",
    "version": 3
   },
   "file_extension": ".py",
   "mimetype": "text/x-python",
   "name": "python",
   "nbconvert_exporter": "python",
   "pygments_lexer": "ipython3",
   "version": "3.9.13"
  }
 },
 "nbformat": 4,
 "nbformat_minor": 5
}
