{
 "cells": [
  {
   "cell_type": "markdown",
   "id": "f569d00c-1940-40d7-8301-f483ee1354c7",
   "metadata": {},
   "source": [
    "#### Class Excercise\n",
    "Use this [url](http://api.worldbank.org/v2/countries/IND/indicators/NY.GDP.MKTP.CD?per_page=5000&format=json) to fetch data on India's gdp. Store this data in a compressed npz format "
   ]
  },
  {
   "cell_type": "code",
   "execution_count": 1,
   "id": "7487d91a-8c8d-4fd5-9a07-4b5b6f5a7be8",
   "metadata": {},
   "outputs": [],
   "source": [
    "import requests\n",
    "url = \"http://api.worldbank.org/v2/countries/IND/indicators/NY.GDP.MKTP.CD?per_page=5000&format=json\"\n",
    "resp = requests.get(url).json()"
   ]
  },
  {
   "cell_type": "code",
   "execution_count": 2,
   "id": "4ac31a79-ef47-4c2e-b3af-8daff1bdfc82",
   "metadata": {},
   "outputs": [
    {
     "data": {
      "text/plain": [
       "2"
      ]
     },
     "execution_count": 2,
     "metadata": {},
     "output_type": "execute_result"
    }
   ],
   "source": [
    "len(resp)"
   ]
  },
  {
   "cell_type": "code",
   "execution_count": 3,
   "id": "51f9a747-6787-411e-80fb-9847b001fad4",
   "metadata": {},
   "outputs": [
    {
     "data": {
      "text/plain": [
       "{'page': 1,\n",
       " 'pages': 1,\n",
       " 'per_page': 5000,\n",
       " 'total': 62,\n",
       " 'sourceid': '2',\n",
       " 'sourcename': 'World Development Indicators',\n",
       " 'lastupdated': '2022-06-30'}"
      ]
     },
     "execution_count": 3,
     "metadata": {},
     "output_type": "execute_result"
    }
   ],
   "source": [
    "resp[0]"
   ]
  },
  {
   "cell_type": "code",
   "execution_count": 4,
   "id": "216557df-cf32-4ec6-b9e7-ba1e2543d040",
   "metadata": {},
   "outputs": [
    {
     "data": {
      "text/plain": [
       "62"
      ]
     },
     "execution_count": 4,
     "metadata": {},
     "output_type": "execute_result"
    }
   ],
   "source": [
    "len(resp[1])"
   ]
  },
  {
   "cell_type": "code",
   "execution_count": 5,
   "id": "f79d56a3-02eb-42e6-9e8e-afd422667080",
   "metadata": {},
   "outputs": [
    {
     "data": {
      "text/plain": [
       "[{'indicator': {'id': 'NY.GDP.MKTP.CD', 'value': 'GDP (current US$)'},\n",
       "  'country': {'id': 'IN', 'value': 'India'},\n",
       "  'countryiso3code': 'IND',\n",
       "  'date': '2021',\n",
       "  'value': 3173397590816.91,\n",
       "  'unit': '',\n",
       "  'obs_status': '',\n",
       "  'decimal': 0},\n",
       " {'indicator': {'id': 'NY.GDP.MKTP.CD', 'value': 'GDP (current US$)'},\n",
       "  'country': {'id': 'IN', 'value': 'India'},\n",
       "  'countryiso3code': 'IND',\n",
       "  'date': '2020',\n",
       "  'value': 2667687951796.56,\n",
       "  'unit': '',\n",
       "  'obs_status': '',\n",
       "  'decimal': 0}]"
      ]
     },
     "execution_count": 5,
     "metadata": {},
     "output_type": "execute_result"
    }
   ],
   "source": [
    "resp[1][0:2]"
   ]
  },
  {
   "cell_type": "code",
   "execution_count": 6,
   "id": "359c00ad-b879-4eda-a948-05902c268db3",
   "metadata": {},
   "outputs": [],
   "source": [
    "dates = []\n",
    "gdp = []\n",
    "for r in resp[1]:\n",
    "    dates.append(int(r['date']))\n",
    "    gdp.append(float(r['value']))"
   ]
  },
  {
   "cell_type": "code",
   "execution_count": 7,
   "id": "0ce5baa4-3326-4e8d-bd2c-d06798cc43ac",
   "metadata": {},
   "outputs": [],
   "source": [
    "import numpy as np\n",
    "dates = np.array(dates)\n",
    "gdp = np.array(gdp)"
   ]
  },
  {
   "cell_type": "code",
   "execution_count": 8,
   "id": "e0cb885d-df69-48a2-b0d6-4e15782239fa",
   "metadata": {},
   "outputs": [],
   "source": [
    "with open(\"api_data.npz\",\"wb\") as f:\n",
    "    np.savez_compressed(f,x=dates,y=gdp)"
   ]
  },
  {
   "cell_type": "code",
   "execution_count": null,
   "id": "77827a09-2049-421d-a7d7-39f29f0f8fd4",
   "metadata": {},
   "outputs": [],
   "source": []
  }
 ],
 "metadata": {
  "kernelspec": {
   "display_name": "Python 3 (ipykernel)",
   "language": "python",
   "name": "python3"
  },
  "language_info": {
   "codemirror_mode": {
    "name": "ipython",
    "version": 3
   },
   "file_extension": ".py",
   "mimetype": "text/x-python",
   "name": "python",
   "nbconvert_exporter": "python",
   "pygments_lexer": "ipython3",
   "version": "3.9.13"
  }
 },
 "nbformat": 4,
 "nbformat_minor": 5
}
