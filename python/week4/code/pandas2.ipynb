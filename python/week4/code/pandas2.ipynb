{
 "cells": [
  {
   "cell_type": "code",
   "execution_count": 1,
   "id": "bc5f0b77-5c8b-4909-99f9-670fd4842fe5",
   "metadata": {},
   "outputs": [],
   "source": [
    "import pandas as pd "
   ]
  },
  {
   "cell_type": "code",
   "execution_count": 2,
   "id": "641ca2ac-1470-4082-8dbe-2c1b190023d9",
   "metadata": {},
   "outputs": [],
   "source": [
    "stores = pd.read_csv(\"stores.csv\")"
   ]
  },
  {
   "cell_type": "markdown",
   "id": "992ac343-ea9e-484d-ab4c-dca01ae37858",
   "metadata": {},
   "source": [
    "### Working with dates\n",
    "\n",
    "Many times the data can have date-time information. Pandas will treat date columns as strings. Once date columns are appropriately handled, meta data such as dayofweek, month, year, quarter etc can be extracted."
   ]
  },
  {
   "cell_type": "code",
   "execution_count": 3,
   "id": "5176ed6d-d83d-45d9-8b28-5b0171e9c561",
   "metadata": {},
   "outputs": [
    {
     "data": {
      "text/plain": [
       "0    11-09-2013\n",
       "1    11-09-2013\n",
       "2     6/13/2013\n",
       "3    10-11-2012\n",
       "4    10-11-2012\n",
       "Name: Order Date, dtype: object"
      ]
     },
     "execution_count": 3,
     "metadata": {},
     "output_type": "execute_result"
    }
   ],
   "source": [
    "stores['Order Date'].head()"
   ]
  },
  {
   "cell_type": "code",
   "execution_count": 4,
   "id": "c9e40485-1908-4314-b7ed-c8696c1c9ac2",
   "metadata": {},
   "outputs": [],
   "source": [
    "stores['Order Date'] = pd.to_datetime(stores['Order Date']) "
   ]
  },
  {
   "cell_type": "code",
   "execution_count": 5,
   "id": "3c1935af-2ea2-4328-8319-364ded8df6df",
   "metadata": {},
   "outputs": [],
   "source": [
    "stores['Ship Date'] = pd.to_datetime(stores['Ship Date'])"
   ]
  },
  {
   "cell_type": "code",
   "execution_count": 6,
   "id": "1a62c91c-006c-4733-b072-00e461b26310",
   "metadata": {},
   "outputs": [
    {
     "data": {
      "text/plain": [
       "0    5\n",
       "1    5\n",
       "2    3\n",
       "3    3\n",
       "4    3\n",
       "Name: Order Date, dtype: int64"
      ]
     },
     "execution_count": 6,
     "metadata": {},
     "output_type": "execute_result"
    }
   ],
   "source": [
    "stores['Order Date'].dt.weekday.head()"
   ]
  },
  {
   "cell_type": "code",
   "execution_count": 7,
   "id": "2e16ec59-6d83-434f-90cd-97c207f67a0e",
   "metadata": {},
   "outputs": [
    {
     "data": {
      "text/plain": [
       "0    11\n",
       "1    11\n",
       "2     6\n",
       "3    10\n",
       "4    10\n",
       "Name: Order Date, dtype: int64"
      ]
     },
     "execution_count": 7,
     "metadata": {},
     "output_type": "execute_result"
    }
   ],
   "source": [
    "stores['Order Date'].dt.month.head()"
   ]
  },
  {
   "cell_type": "code",
   "execution_count": 8,
   "id": "ac611931-42b0-4819-8518-6f017de0b6e0",
   "metadata": {},
   "outputs": [
    {
     "data": {
      "text/plain": [
       "0    2013\n",
       "1    2013\n",
       "2    2013\n",
       "3    2012\n",
       "4    2012\n",
       "Name: Order Date, dtype: int64"
      ]
     },
     "execution_count": 8,
     "metadata": {},
     "output_type": "execute_result"
    }
   ],
   "source": [
    "stores['Order Date'].dt.year.head()"
   ]
  },
  {
   "cell_type": "markdown",
   "id": "b58fb4ff-8622-470c-9208-1ce1f6979e62",
   "metadata": {},
   "source": [
    "### Class Excercise: Flight Delays Dataset\n",
    "\n",
    "**Load the data set FlightDelays, the data has information on the flights over the year 2004 and if a particular flight was delayed or not.**\n",
    "1. Find out the number of delayed flights for all weekdays\n",
    "2. Find the average distance, total distance and count for all delayed flights on Friday.\n",
    "3. Find out how many flights were on time on Week days and Weekends (Consider Saturday and Sunday as weekends)\n",
    "4. Find out the number of flights for each destination across all weekdays\n",
    "5. Find out the number of times weather was bad across all weekdays. (1 indicates bad weather)\n",
    "\n"
   ]
  },
  {
   "cell_type": "markdown",
   "id": "4b4497ef-fd4a-4e87-82b6-199fc047271e",
   "metadata": {},
   "source": [
    "### Map and Apply Constructs\n",
    "\n",
    "Apply and map constructs are used when we want to loop over rows, rows+columns. `maps()` are used only to loop over rows of one column. `apply()` is used to loop over rows across columns or columns across rows.\n",
    "\n",
    "Since a dataframe is two dimensional data-structure. We can specify in which direction an `apply()` operation can be applied. Pandas uses the idea of axes to help in specifying the direction of operation. Below is a gif that gives an intuitive idea about the axes/axis\n",
    "![](axis.gif)"
   ]
  },
  {
   "cell_type": "markdown",
   "id": "5c8b0e6b-840c-43bb-aede-168604e6ebcd",
   "metadata": {},
   "source": [
    "#### Map\n",
    "\n",
    "Lets imagine we wanted to bucket the sales column into high,medium and low sales based on the following rule:\n",
    "- If sales>5000, high\n",
    "- If 5000<sales<=2000, medium\n",
    "- If sales<=2000, low\n",
    "\n",
    "we can use the notion of map to accomplish this."
   ]
  },
  {
   "cell_type": "code",
   "execution_count": 9,
   "id": "3ef12422-2b07-42a9-8feb-2dc2d664d2a1",
   "metadata": {},
   "outputs": [
    {
     "data": {
      "text/plain": [
       "0       low\n",
       "1       low\n",
       "2       low\n",
       "3       low\n",
       "4       low\n",
       "       ... \n",
       "9989    low\n",
       "9990    low\n",
       "9991    low\n",
       "9992    low\n",
       "9993    low\n",
       "Name: Sales, Length: 9994, dtype: object"
      ]
     },
     "execution_count": 9,
     "metadata": {},
     "output_type": "execute_result"
    }
   ],
   "source": [
    "def categorise(val):\n",
    "    if val>5000:\n",
    "        return 'high'\n",
    "    elif val<=5000 and val>2000:\n",
    "        return 'medium'\n",
    "    else:\n",
    "        return 'low'\n",
    "stores['Sales'].map(categorise)"
   ]
  },
  {
   "cell_type": "code",
   "execution_count": 10,
   "id": "73ff2cad-1243-4ab0-8328-f50693d48343",
   "metadata": {},
   "outputs": [
    {
     "data": {
      "text/plain": [
       "low       9854\n",
       "medium     121\n",
       "high        19\n",
       "Name: Sales, dtype: int64"
      ]
     },
     "execution_count": 10,
     "metadata": {},
     "output_type": "execute_result"
    }
   ],
   "source": [
    "stores['Sales'].map(categorise).value_counts()"
   ]
  },
  {
   "cell_type": "markdown",
   "id": "d0896821-1a70-4bf3-8bc2-6e6fb4361e82",
   "metadata": {},
   "source": [
    "### Class Excercise: Comey Dataset\n",
    "\n",
    "Use the dataset names `comey.csv`. You need to use the idea of map and find out the length of each response and each question. The you need to see if there is any difference between the lengths by party affiliattion. You can read more about the testimony of James Comey (former FBI director) [here](https://www.intelligence.senate.gov/sites/default/files/documents/os-jcomey-060817.pdf?)"
   ]
  },
  {
   "cell_type": "markdown",
   "id": "998335e2-5b74-448d-a863-4d7f0efc3066",
   "metadata": {},
   "source": [
    "### Apply\n",
    "\n",
    "Apply is used to traverse rows across columns or vice-versa. Suppose in the stores dataset we want to do a rebalancing of sales figures. Imagine the charge of first class shipping was recognised incorrectly and now we need to decrease the sales number by $ 200. We can make use of the notion of apply here. In this case we will write a function that will traverse a row across columns, hence the correct axis direction would be 1"
   ]
  },
  {
   "cell_type": "code",
   "execution_count": 11,
   "id": "6b5e3810-59e9-4c09-9549-4ce3cc12a760",
   "metadata": {},
   "outputs": [
    {
     "data": {
      "text/plain": [
       "0       261.9600\n",
       "1       731.9400\n",
       "2        14.6200\n",
       "3       957.5775\n",
       "4        22.3680\n",
       "          ...   \n",
       "9989     25.2480\n",
       "9990     91.9600\n",
       "9991    258.5760\n",
       "9992     29.6000\n",
       "9993    243.1600\n",
       "Length: 9994, dtype: float64"
      ]
     },
     "execution_count": 11,
     "metadata": {},
     "output_type": "execute_result"
    }
   ],
   "source": [
    "def rebalance(row):\n",
    "    if row['Ship Mode']=='First Class':\n",
    "        return row['Sales'] - 200\n",
    "    else:\n",
    "        return row['Sales']\n",
    "stores.apply(rebalance,axis=1)"
   ]
  },
  {
   "cell_type": "markdown",
   "id": "49100d8c-7633-42d8-90d1-fa2124d27f8c",
   "metadata": {},
   "source": [
    "### Joins\n",
    "\n",
    "There are scenarios when the data is not contained in a single file. Its not unusual to find data spread across many files. When that happens, we need some mechanism of joining different tables."
   ]
  },
  {
   "cell_type": "code",
   "execution_count": 12,
   "id": "40b6d70a-624c-413d-a5c1-4fa5037cfbab",
   "metadata": {},
   "outputs": [],
   "source": [
    "customers = pd.read_csv(\"customers.csv\")\n",
    "accounts = pd.read_csv(\"accounts.csv\")"
   ]
  },
  {
   "cell_type": "code",
   "execution_count": 13,
   "id": "4b455f55-e754-43c8-a85b-300903b7def5",
   "metadata": {},
   "outputs": [
    {
     "data": {
      "text/html": [
       "<div>\n",
       "<style scoped>\n",
       "    .dataframe tbody tr th:only-of-type {\n",
       "        vertical-align: middle;\n",
       "    }\n",
       "\n",
       "    .dataframe tbody tr th {\n",
       "        vertical-align: top;\n",
       "    }\n",
       "\n",
       "    .dataframe thead th {\n",
       "        text-align: right;\n",
       "    }\n",
       "</style>\n",
       "<table border=\"1\" class=\"dataframe\">\n",
       "  <thead>\n",
       "    <tr style=\"text-align: right;\">\n",
       "      <th></th>\n",
       "      <th>Cust_id</th>\n",
       "      <th>Age</th>\n",
       "    </tr>\n",
       "  </thead>\n",
       "  <tbody>\n",
       "    <tr>\n",
       "      <th>0</th>\n",
       "      <td>AA1</td>\n",
       "      <td>17</td>\n",
       "    </tr>\n",
       "    <tr>\n",
       "      <th>1</th>\n",
       "      <td>AA2</td>\n",
       "      <td>18</td>\n",
       "    </tr>\n",
       "    <tr>\n",
       "      <th>2</th>\n",
       "      <td>AA3</td>\n",
       "      <td>33</td>\n",
       "    </tr>\n",
       "    <tr>\n",
       "      <th>3</th>\n",
       "      <td>AA4</td>\n",
       "      <td>21</td>\n",
       "    </tr>\n",
       "    <tr>\n",
       "      <th>4</th>\n",
       "      <td>AA5</td>\n",
       "      <td>14</td>\n",
       "    </tr>\n",
       "  </tbody>\n",
       "</table>\n",
       "</div>"
      ],
      "text/plain": [
       "  Cust_id  Age\n",
       "0     AA1   17\n",
       "1     AA2   18\n",
       "2     AA3   33\n",
       "3     AA4   21\n",
       "4     AA5   14"
      ]
     },
     "execution_count": 13,
     "metadata": {},
     "output_type": "execute_result"
    }
   ],
   "source": [
    "customers.head()"
   ]
  },
  {
   "cell_type": "code",
   "execution_count": 14,
   "id": "2c8e99d3-a71c-4960-bc6d-06cb5b2459f1",
   "metadata": {},
   "outputs": [
    {
     "data": {
      "text/html": [
       "<div>\n",
       "<style scoped>\n",
       "    .dataframe tbody tr th:only-of-type {\n",
       "        vertical-align: middle;\n",
       "    }\n",
       "\n",
       "    .dataframe tbody tr th {\n",
       "        vertical-align: top;\n",
       "    }\n",
       "\n",
       "    .dataframe thead th {\n",
       "        text-align: right;\n",
       "    }\n",
       "</style>\n",
       "<table border=\"1\" class=\"dataframe\">\n",
       "  <thead>\n",
       "    <tr style=\"text-align: right;\">\n",
       "      <th></th>\n",
       "      <th>CustID</th>\n",
       "      <th>Account Type</th>\n",
       "    </tr>\n",
       "  </thead>\n",
       "  <tbody>\n",
       "    <tr>\n",
       "      <th>0</th>\n",
       "      <td>AA1</td>\n",
       "      <td>AAA</td>\n",
       "    </tr>\n",
       "    <tr>\n",
       "      <th>1</th>\n",
       "      <td>AA6</td>\n",
       "      <td>AA</td>\n",
       "    </tr>\n",
       "    <tr>\n",
       "      <th>2</th>\n",
       "      <td>AA4</td>\n",
       "      <td>B</td>\n",
       "    </tr>\n",
       "    <tr>\n",
       "      <th>3</th>\n",
       "      <td>AA7</td>\n",
       "      <td>CCC</td>\n",
       "    </tr>\n",
       "    <tr>\n",
       "      <th>4</th>\n",
       "      <td>AA12</td>\n",
       "      <td>AAA</td>\n",
       "    </tr>\n",
       "  </tbody>\n",
       "</table>\n",
       "</div>"
      ],
      "text/plain": [
       "  CustID Account Type\n",
       "0    AA1          AAA\n",
       "1    AA6           AA\n",
       "2    AA4            B\n",
       "3    AA7          CCC\n",
       "4   AA12          AAA"
      ]
     },
     "execution_count": 14,
     "metadata": {},
     "output_type": "execute_result"
    }
   ],
   "source": [
    "accounts.head()"
   ]
  },
  {
   "cell_type": "markdown",
   "id": "09c7ec75-30aa-48c3-95a8-642477820c64",
   "metadata": {},
   "source": [
    "### Inner Join\n",
    "\n",
    "- Join two tables based on common rows of a key column"
   ]
  },
  {
   "cell_type": "code",
   "execution_count": 15,
   "id": "198869b2-4f6c-4979-bc1b-638f9bbfd793",
   "metadata": {},
   "outputs": [
    {
     "data": {
      "text/html": [
       "<div>\n",
       "<style scoped>\n",
       "    .dataframe tbody tr th:only-of-type {\n",
       "        vertical-align: middle;\n",
       "    }\n",
       "\n",
       "    .dataframe tbody tr th {\n",
       "        vertical-align: top;\n",
       "    }\n",
       "\n",
       "    .dataframe thead th {\n",
       "        text-align: right;\n",
       "    }\n",
       "</style>\n",
       "<table border=\"1\" class=\"dataframe\">\n",
       "  <thead>\n",
       "    <tr style=\"text-align: right;\">\n",
       "      <th></th>\n",
       "      <th>Cust_id</th>\n",
       "      <th>Age</th>\n",
       "      <th>CustID</th>\n",
       "      <th>Account Type</th>\n",
       "    </tr>\n",
       "  </thead>\n",
       "  <tbody>\n",
       "    <tr>\n",
       "      <th>0</th>\n",
       "      <td>AA1</td>\n",
       "      <td>17</td>\n",
       "      <td>AA1</td>\n",
       "      <td>AAA</td>\n",
       "    </tr>\n",
       "    <tr>\n",
       "      <th>1</th>\n",
       "      <td>AA4</td>\n",
       "      <td>21</td>\n",
       "      <td>AA4</td>\n",
       "      <td>B</td>\n",
       "    </tr>\n",
       "    <tr>\n",
       "      <th>2</th>\n",
       "      <td>AA6</td>\n",
       "      <td>81</td>\n",
       "      <td>AA6</td>\n",
       "      <td>AA</td>\n",
       "    </tr>\n",
       "  </tbody>\n",
       "</table>\n",
       "</div>"
      ],
      "text/plain": [
       "  Cust_id  Age CustID Account Type\n",
       "0     AA1   17    AA1          AAA\n",
       "1     AA4   21    AA4            B\n",
       "2     AA6   81    AA6           AA"
      ]
     },
     "execution_count": 15,
     "metadata": {},
     "output_type": "execute_result"
    }
   ],
   "source": [
    "pd.merge(customers,accounts,how='inner',left_on=\"Cust_id\",right_on=\"CustID\")"
   ]
  },
  {
   "cell_type": "markdown",
   "id": "cf8389fc-c90c-43e6-accb-a39827b14995",
   "metadata": {},
   "source": [
    "### Left Outer Join:\n",
    "- Retain all the rows in the left table and give the matching rows in right table"
   ]
  },
  {
   "cell_type": "code",
   "execution_count": 16,
   "id": "3c0b2f81-fed6-47cf-8acb-db8292c76c45",
   "metadata": {},
   "outputs": [
    {
     "data": {
      "text/html": [
       "<div>\n",
       "<style scoped>\n",
       "    .dataframe tbody tr th:only-of-type {\n",
       "        vertical-align: middle;\n",
       "    }\n",
       "\n",
       "    .dataframe tbody tr th {\n",
       "        vertical-align: top;\n",
       "    }\n",
       "\n",
       "    .dataframe thead th {\n",
       "        text-align: right;\n",
       "    }\n",
       "</style>\n",
       "<table border=\"1\" class=\"dataframe\">\n",
       "  <thead>\n",
       "    <tr style=\"text-align: right;\">\n",
       "      <th></th>\n",
       "      <th>Cust_id</th>\n",
       "      <th>Age</th>\n",
       "      <th>CustID</th>\n",
       "      <th>Account Type</th>\n",
       "    </tr>\n",
       "  </thead>\n",
       "  <tbody>\n",
       "    <tr>\n",
       "      <th>0</th>\n",
       "      <td>AA1</td>\n",
       "      <td>17</td>\n",
       "      <td>AA1</td>\n",
       "      <td>AAA</td>\n",
       "    </tr>\n",
       "    <tr>\n",
       "      <th>1</th>\n",
       "      <td>AA2</td>\n",
       "      <td>18</td>\n",
       "      <td>NaN</td>\n",
       "      <td>NaN</td>\n",
       "    </tr>\n",
       "    <tr>\n",
       "      <th>2</th>\n",
       "      <td>AA3</td>\n",
       "      <td>33</td>\n",
       "      <td>NaN</td>\n",
       "      <td>NaN</td>\n",
       "    </tr>\n",
       "    <tr>\n",
       "      <th>3</th>\n",
       "      <td>AA4</td>\n",
       "      <td>21</td>\n",
       "      <td>AA4</td>\n",
       "      <td>B</td>\n",
       "    </tr>\n",
       "    <tr>\n",
       "      <th>4</th>\n",
       "      <td>AA5</td>\n",
       "      <td>14</td>\n",
       "      <td>NaN</td>\n",
       "      <td>NaN</td>\n",
       "    </tr>\n",
       "    <tr>\n",
       "      <th>5</th>\n",
       "      <td>AA6</td>\n",
       "      <td>81</td>\n",
       "      <td>AA6</td>\n",
       "      <td>AA</td>\n",
       "    </tr>\n",
       "  </tbody>\n",
       "</table>\n",
       "</div>"
      ],
      "text/plain": [
       "  Cust_id  Age CustID Account Type\n",
       "0     AA1   17    AA1          AAA\n",
       "1     AA2   18    NaN          NaN\n",
       "2     AA3   33    NaN          NaN\n",
       "3     AA4   21    AA4            B\n",
       "4     AA5   14    NaN          NaN\n",
       "5     AA6   81    AA6           AA"
      ]
     },
     "execution_count": 16,
     "metadata": {},
     "output_type": "execute_result"
    }
   ],
   "source": [
    "pd.merge(customers,accounts,how='left',left_on=\"Cust_id\",right_on=\"CustID\")"
   ]
  },
  {
   "cell_type": "markdown",
   "id": "5c2b1578-6e3d-4173-bce4-984ea5cad49a",
   "metadata": {},
   "source": [
    "### Right Outer Join:\n",
    "- Retain all the rows in the right table and give the matching rows in left table"
   ]
  },
  {
   "cell_type": "code",
   "execution_count": 17,
   "id": "2c3ccc64-9fce-44b3-88c1-8c174af8163e",
   "metadata": {},
   "outputs": [
    {
     "data": {
      "text/html": [
       "<div>\n",
       "<style scoped>\n",
       "    .dataframe tbody tr th:only-of-type {\n",
       "        vertical-align: middle;\n",
       "    }\n",
       "\n",
       "    .dataframe tbody tr th {\n",
       "        vertical-align: top;\n",
       "    }\n",
       "\n",
       "    .dataframe thead th {\n",
       "        text-align: right;\n",
       "    }\n",
       "</style>\n",
       "<table border=\"1\" class=\"dataframe\">\n",
       "  <thead>\n",
       "    <tr style=\"text-align: right;\">\n",
       "      <th></th>\n",
       "      <th>Cust_id</th>\n",
       "      <th>Age</th>\n",
       "      <th>CustID</th>\n",
       "      <th>Account Type</th>\n",
       "    </tr>\n",
       "  </thead>\n",
       "  <tbody>\n",
       "    <tr>\n",
       "      <th>0</th>\n",
       "      <td>AA1</td>\n",
       "      <td>17.0</td>\n",
       "      <td>AA1</td>\n",
       "      <td>AAA</td>\n",
       "    </tr>\n",
       "    <tr>\n",
       "      <th>1</th>\n",
       "      <td>AA6</td>\n",
       "      <td>81.0</td>\n",
       "      <td>AA6</td>\n",
       "      <td>AA</td>\n",
       "    </tr>\n",
       "    <tr>\n",
       "      <th>2</th>\n",
       "      <td>AA4</td>\n",
       "      <td>21.0</td>\n",
       "      <td>AA4</td>\n",
       "      <td>B</td>\n",
       "    </tr>\n",
       "    <tr>\n",
       "      <th>3</th>\n",
       "      <td>NaN</td>\n",
       "      <td>NaN</td>\n",
       "      <td>AA7</td>\n",
       "      <td>CCC</td>\n",
       "    </tr>\n",
       "    <tr>\n",
       "      <th>4</th>\n",
       "      <td>NaN</td>\n",
       "      <td>NaN</td>\n",
       "      <td>AA12</td>\n",
       "      <td>AAA</td>\n",
       "    </tr>\n",
       "    <tr>\n",
       "      <th>5</th>\n",
       "      <td>NaN</td>\n",
       "      <td>NaN</td>\n",
       "      <td>AA10</td>\n",
       "      <td>DDD</td>\n",
       "    </tr>\n",
       "  </tbody>\n",
       "</table>\n",
       "</div>"
      ],
      "text/plain": [
       "  Cust_id   Age CustID Account Type\n",
       "0     AA1  17.0    AA1          AAA\n",
       "1     AA6  81.0    AA6           AA\n",
       "2     AA4  21.0    AA4            B\n",
       "3     NaN   NaN    AA7          CCC\n",
       "4     NaN   NaN   AA12          AAA\n",
       "5     NaN   NaN   AA10          DDD"
      ]
     },
     "execution_count": 17,
     "metadata": {},
     "output_type": "execute_result"
    }
   ],
   "source": [
    "pd.merge(customers,accounts,how='right',left_on=\"Cust_id\",right_on=\"CustID\")"
   ]
  },
  {
   "cell_type": "markdown",
   "id": "2f302323-da74-4800-92b7-73c20b234727",
   "metadata": {},
   "source": [
    "### Outer Join\n",
    "- Join both the tables irrespective of any match in the key columns"
   ]
  },
  {
   "cell_type": "code",
   "execution_count": 18,
   "id": "d58e9b8c-0db2-4fe9-a685-71c2c4475e07",
   "metadata": {},
   "outputs": [
    {
     "data": {
      "text/html": [
       "<div>\n",
       "<style scoped>\n",
       "    .dataframe tbody tr th:only-of-type {\n",
       "        vertical-align: middle;\n",
       "    }\n",
       "\n",
       "    .dataframe tbody tr th {\n",
       "        vertical-align: top;\n",
       "    }\n",
       "\n",
       "    .dataframe thead th {\n",
       "        text-align: right;\n",
       "    }\n",
       "</style>\n",
       "<table border=\"1\" class=\"dataframe\">\n",
       "  <thead>\n",
       "    <tr style=\"text-align: right;\">\n",
       "      <th></th>\n",
       "      <th>Cust_id</th>\n",
       "      <th>Age</th>\n",
       "      <th>CustID</th>\n",
       "      <th>Account Type</th>\n",
       "    </tr>\n",
       "  </thead>\n",
       "  <tbody>\n",
       "    <tr>\n",
       "      <th>0</th>\n",
       "      <td>AA1</td>\n",
       "      <td>17.0</td>\n",
       "      <td>AA1</td>\n",
       "      <td>AAA</td>\n",
       "    </tr>\n",
       "    <tr>\n",
       "      <th>1</th>\n",
       "      <td>AA2</td>\n",
       "      <td>18.0</td>\n",
       "      <td>NaN</td>\n",
       "      <td>NaN</td>\n",
       "    </tr>\n",
       "    <tr>\n",
       "      <th>2</th>\n",
       "      <td>AA3</td>\n",
       "      <td>33.0</td>\n",
       "      <td>NaN</td>\n",
       "      <td>NaN</td>\n",
       "    </tr>\n",
       "    <tr>\n",
       "      <th>3</th>\n",
       "      <td>AA4</td>\n",
       "      <td>21.0</td>\n",
       "      <td>AA4</td>\n",
       "      <td>B</td>\n",
       "    </tr>\n",
       "    <tr>\n",
       "      <th>4</th>\n",
       "      <td>AA5</td>\n",
       "      <td>14.0</td>\n",
       "      <td>NaN</td>\n",
       "      <td>NaN</td>\n",
       "    </tr>\n",
       "    <tr>\n",
       "      <th>5</th>\n",
       "      <td>AA6</td>\n",
       "      <td>81.0</td>\n",
       "      <td>AA6</td>\n",
       "      <td>AA</td>\n",
       "    </tr>\n",
       "    <tr>\n",
       "      <th>6</th>\n",
       "      <td>NaN</td>\n",
       "      <td>NaN</td>\n",
       "      <td>AA7</td>\n",
       "      <td>CCC</td>\n",
       "    </tr>\n",
       "    <tr>\n",
       "      <th>7</th>\n",
       "      <td>NaN</td>\n",
       "      <td>NaN</td>\n",
       "      <td>AA12</td>\n",
       "      <td>AAA</td>\n",
       "    </tr>\n",
       "    <tr>\n",
       "      <th>8</th>\n",
       "      <td>NaN</td>\n",
       "      <td>NaN</td>\n",
       "      <td>AA10</td>\n",
       "      <td>DDD</td>\n",
       "    </tr>\n",
       "  </tbody>\n",
       "</table>\n",
       "</div>"
      ],
      "text/plain": [
       "  Cust_id   Age CustID Account Type\n",
       "0     AA1  17.0    AA1          AAA\n",
       "1     AA2  18.0    NaN          NaN\n",
       "2     AA3  33.0    NaN          NaN\n",
       "3     AA4  21.0    AA4            B\n",
       "4     AA5  14.0    NaN          NaN\n",
       "5     AA6  81.0    AA6           AA\n",
       "6     NaN   NaN    AA7          CCC\n",
       "7     NaN   NaN   AA12          AAA\n",
       "8     NaN   NaN   AA10          DDD"
      ]
     },
     "execution_count": 18,
     "metadata": {},
     "output_type": "execute_result"
    }
   ],
   "source": [
    "pd.merge(customers,accounts,how='outer',left_on=\"Cust_id\",right_on=\"CustID\")"
   ]
  },
  {
   "cell_type": "markdown",
   "id": "2cfc4b2d-2a8b-4be9-a2bb-2af268d36090",
   "metadata": {},
   "source": [
    "### Class Excercise (Joins)\n",
    "\n",
    "- Use the files contributions.csv and candidates.csv. The file contributions.csv contains data on contributions made to political parties. The file candidates.csv contains data on the demographics of candidates belonging to different political parties. What was the highest contribution made on a Sunday?\n",
    "\n",
    "- Use the files contributions.csv and candidates.csv. The file contributions.csv contains data on contributions made to political parties. The file candidates.csv contains data on the demographics of candidates belonging to different political parties. Is there a difference between the average donations received by Democrats on weekdays vs weekends? (In the column party, R stands for Republican and D stands for Democrats)\n",
    "\n",
    "- Use the files contributions.csv and candidates.csv. The file contributions.csv contains data on contributions made to political parties. The file candidates.csv contains data on the demographics of candidates belonging to different political parties. The highest amount contributed on weekdays towards Democrats is?  (In the column party, R stands for Republican and D stands for Democrats)"
   ]
  },
  {
   "cell_type": "code",
   "execution_count": null,
   "id": "de75bd55-f8cb-4bd7-8547-5914814b1d67",
   "metadata": {},
   "outputs": [],
   "source": []
  }
 ],
 "metadata": {
  "kernelspec": {
   "display_name": "Python 3 (ipykernel)",
   "language": "python",
   "name": "python3"
  },
  "language_info": {
   "codemirror_mode": {
    "name": "ipython",
    "version": 3
   },
   "file_extension": ".py",
   "mimetype": "text/x-python",
   "name": "python",
   "nbconvert_exporter": "python",
   "pygments_lexer": "ipython3",
   "version": "3.9.13"
  }
 },
 "nbformat": 4,
 "nbformat_minor": 5
}
